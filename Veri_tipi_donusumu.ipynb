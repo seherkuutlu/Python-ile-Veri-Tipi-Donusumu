{
 "cells": [
  {
   "cell_type": "code",
   "execution_count": 2,
   "metadata": {
    "collapsed": false
   },
   "outputs": [
   ],
   "source": [
    "import pandas as pd\n",
    "import numpy as np\n"
   ]
  },
  {
   "cell_type": "code",
   "execution_count": 3,
   "metadata": {
    "collapsed": false
   },
   "outputs": [
   ],
   "source": [
    "veri = pd.read_csv(\"Credit Risk Data.csv\", sep=\";\")"
   ]
  },
  {
   "cell_type": "code",
   "execution_count": 4,
   "metadata": {
    "collapsed": false
   },
   "outputs": [
    {
     "name": "stdout",
     "output_type": "stream",
     "text": [
      "<class 'pandas.core.frame.DataFrame'>\n",
      "RangeIndex: 425 entries, 0 to 424\n",
      "Data columns (total 10 columns):\n",
      " #   Column           Non-Null Count  Dtype \n",
      "---  ------           --------------  ----- \n",
      " 0   Loan Purpose     425 non-null    object\n",
      " 1   Savings          425 non-null    object\n",
      " 2   Months Customer  425 non-null    int64 \n",
      " 3   Months Employed  425 non-null    int64 \n",
      " 4   Gender           425 non-null    object\n",
      " 5   Marital Status   425 non-null    object\n",
      " 6   Age              425 non-null    int64 \n",
      " 7   Housing          425 non-null    object\n",
      " 8   Years            425 non-null    int64 \n",
      " 9   Credit Risk      425 non-null    object\n",
      "dtypes: int64(4), object(6)\n",
      "memory usage: 33.3+ KB\n"
     ]
    }
   ],
   "source": [
    "veri.info()\n",
    "## saving float64 olmalı ancak yanlış kayıt edilmiştir."
   ]
  },
  {
   "cell_type": "code",
   "execution_count": 5,
   "metadata": {
    "collapsed": false
   },
   "outputs": [
    {
     "data": {
      "text/html": [
       "<div>\n",
       "<style scoped>\n",
       "    .dataframe tbody tr th:only-of-type {\n",
       "        vertical-align: middle;\n",
       "    }\n",
       "\n",
       "    .dataframe tbody tr th {\n",
       "        vertical-align: top;\n",
       "    }\n",
       "\n",
       "    .dataframe thead th {\n",
       "        text-align: right;\n",
       "    }\n",
       "</style>\n",
       "<table border=\"1\" class=\"dataframe\">\n",
       "  <thead>\n",
       "    <tr style=\"text-align: right;\">\n",
       "      <th></th>\n",
       "      <th>Kredi Amaci</th>\n",
       "      <th>Tasarruf</th>\n",
       "      <th>Aylik musteri</th>\n",
       "      <th>Months Employed</th>\n",
       "      <th>Cinsiyet</th>\n",
       "      <th>Medeni durumu</th>\n",
       "      <th>Yas</th>\n",
       "      <th>Konut</th>\n",
       "      <th>Yil</th>\n",
       "      <th>Kredi riski</th>\n",
       "    </tr>\n",
       "  </thead>\n",
       "  <tbody>\n",
       "    <tr>\n",
       "      <th>0</th>\n",
       "      <td>Small Appliance</td>\n",
       "      <td>$739</td>\n",
       "      <td>13</td>\n",
       "      <td>12</td>\n",
       "      <td>M</td>\n",
       "      <td>Single</td>\n",
       "      <td>23</td>\n",
       "      <td>Own</td>\n",
       "      <td>3</td>\n",
       "      <td>Low</td>\n",
       "    </tr>\n",
       "    <tr>\n",
       "      <th>1</th>\n",
       "      <td>Furniture</td>\n",
       "      <td>$1.230</td>\n",
       "      <td>25</td>\n",
       "      <td>0</td>\n",
       "      <td>M</td>\n",
       "      <td>Divorced</td>\n",
       "      <td>32</td>\n",
       "      <td>Own</td>\n",
       "      <td>1</td>\n",
       "      <td>High</td>\n",
       "    </tr>\n",
       "    <tr>\n",
       "      <th>2</th>\n",
       "      <td>New Car</td>\n",
       "      <td>$389</td>\n",
       "      <td>19</td>\n",
       "      <td>119</td>\n",
       "      <td>M</td>\n",
       "      <td>Single</td>\n",
       "      <td>38</td>\n",
       "      <td>Own</td>\n",
       "      <td>4</td>\n",
       "      <td>High</td>\n",
       "    </tr>\n",
       "    <tr>\n",
       "      <th>3</th>\n",
       "      <td>Furniture</td>\n",
       "      <td>$347</td>\n",
       "      <td>13</td>\n",
       "      <td>14</td>\n",
       "      <td>M</td>\n",
       "      <td>Single</td>\n",
       "      <td>36</td>\n",
       "      <td>Own</td>\n",
       "      <td>2</td>\n",
       "      <td>High</td>\n",
       "    </tr>\n",
       "    <tr>\n",
       "      <th>4</th>\n",
       "      <td>Education</td>\n",
       "      <td>$4.754</td>\n",
       "      <td>40</td>\n",
       "      <td>45</td>\n",
       "      <td>M</td>\n",
       "      <td>Single</td>\n",
       "      <td>31</td>\n",
       "      <td>Rent</td>\n",
       "      <td>3</td>\n",
       "      <td>Low</td>\n",
       "    </tr>\n",
       "    <tr>\n",
       "      <th>...</th>\n",
       "      <td>...</td>\n",
       "      <td>...</td>\n",
       "      <td>...</td>\n",
       "      <td>...</td>\n",
       "      <td>...</td>\n",
       "      <td>...</td>\n",
       "      <td>...</td>\n",
       "      <td>...</td>\n",
       "      <td>...</td>\n",
       "      <td>...</td>\n",
       "    </tr>\n",
       "    <tr>\n",
       "      <th>420</th>\n",
       "      <td>Small Appliance</td>\n",
       "      <td>$0</td>\n",
       "      <td>7</td>\n",
       "      <td>51</td>\n",
       "      <td>M</td>\n",
       "      <td>Single</td>\n",
       "      <td>35</td>\n",
       "      <td>Other</td>\n",
       "      <td>4</td>\n",
       "      <td>Low</td>\n",
       "    </tr>\n",
       "    <tr>\n",
       "      <th>421</th>\n",
       "      <td>Furniture</td>\n",
       "      <td>$0</td>\n",
       "      <td>31</td>\n",
       "      <td>53</td>\n",
       "      <td>M</td>\n",
       "      <td>Single</td>\n",
       "      <td>30</td>\n",
       "      <td>Own</td>\n",
       "      <td>4</td>\n",
       "      <td>High</td>\n",
       "    </tr>\n",
       "    <tr>\n",
       "      <th>422</th>\n",
       "      <td>New Car</td>\n",
       "      <td>$0</td>\n",
       "      <td>25</td>\n",
       "      <td>103</td>\n",
       "      <td>F</td>\n",
       "      <td>Divorced</td>\n",
       "      <td>28</td>\n",
       "      <td>Own</td>\n",
       "      <td>2</td>\n",
       "      <td>High</td>\n",
       "    </tr>\n",
       "    <tr>\n",
       "      <th>423</th>\n",
       "      <td>New Car</td>\n",
       "      <td>$712</td>\n",
       "      <td>16</td>\n",
       "      <td>6</td>\n",
       "      <td>F</td>\n",
       "      <td>Divorced</td>\n",
       "      <td>28</td>\n",
       "      <td>Own</td>\n",
       "      <td>2</td>\n",
       "      <td>High</td>\n",
       "    </tr>\n",
       "    <tr>\n",
       "      <th>424</th>\n",
       "      <td>New Car</td>\n",
       "      <td>$912</td>\n",
       "      <td>7</td>\n",
       "      <td>39</td>\n",
       "      <td>M</td>\n",
       "      <td>Single</td>\n",
       "      <td>44</td>\n",
       "      <td>Own</td>\n",
       "      <td>3</td>\n",
       "      <td>Low</td>\n",
       "    </tr>\n",
       "  </tbody>\n",
       "</table>\n",
       "<p>425 rows × 10 columns</p>\n",
       "</div>"
      ],
      "text/plain": [
       "         Kredi Amaci Tasarruf  Aylik musteri  Months Employed Cinsiyet  \\\n",
       "0    Small Appliance     $739             13               12        M   \n",
       "1          Furniture   $1.230             25                0        M   \n",
       "2            New Car     $389             19              119        M   \n",
       "3          Furniture     $347             13               14        M   \n",
       "4          Education   $4.754             40               45        M   \n",
       "..               ...      ...            ...              ...      ...   \n",
       "420  Small Appliance       $0              7               51        M   \n",
       "421        Furniture       $0             31               53        M   \n",
       "422          New Car       $0             25              103        F   \n",
       "423          New Car     $712             16                6        F   \n",
       "424          New Car     $912              7               39        M   \n",
       "\n",
       "    Medeni durumu  Yas  Konut  Yil Kredi riski  \n",
       "0          Single   23    Own    3         Low  \n",
       "1        Divorced   32    Own    1        High  \n",
       "2          Single   38    Own    4        High  \n",
       "3          Single   36    Own    2        High  \n",
       "4          Single   31   Rent    3         Low  \n",
       "..            ...  ...    ...  ...         ...  \n",
       "420        Single   35  Other    4         Low  \n",
       "421        Single   30    Own    4        High  \n",
       "422      Divorced   28    Own    2        High  \n",
       "423      Divorced   28    Own    2        High  \n",
       "424        Single   44    Own    3         Low  \n",
       "\n",
       "[425 rows x 10 columns]"
      ]
     },
     "execution_count": 5,
     "metadata": {
     },
     "output_type": "execute_result"
    }
   ],
   "source": [
    "yeni_veri =veri.rename(columns={\"Loan Purpose\":\"Kredi Amaci\",\n",
    "                    \"Savings\":\"Tasarruf\",\n",
    "                    \"Months Customer\":\"Aylik musteri\",\n",
    "                    \"Months employed\":\"Aylik calisan\",\n",
    "                    \"Gender\":\"Cinsiyet\",\n",
    "                    \"Marital Status\":\"Medeni durumu\",\n",
    "                    \"Age\":\"Yas\",\n",
    "                    \"Housing\": \"Konut\",\n",
    "                    \"Years\":\"Yil\",\n",
    "                    \"Credit Risk\" : \"Kredi riski\"})\n",
    "yeni_veri"
   ]
  },
  {
   "cell_type": "code",
   "execution_count": 12,
   "metadata": {
    "collapsed": false
   },
   "outputs": [
    {
     "data": {
      "text/plain": [
       "count     425\n",
       "unique      3\n",
       "top       Own\n",
       "freq      292\n",
       "Name: Konut, dtype: object"
      ]
     },
     "execution_count": 12,
     "metadata": {
     },
     "output_type": "execute_result"
    }
   ],
   "source": [
    "##Kategorik değişken düzeyleri\n",
    "# Kredi amacı:10\n",
    "# Cinsiyet: 2\n",
    "# Medeni durumu:3\n",
    "# Konut:3\n",
    "# Kredi riski: 2\n",
    "yeni_veri[\"Konut\"].describe()"
   ]
  },
  {
   "cell_type": "code",
   "execution_count": 6,
   "metadata": {
    "collapsed": false
   },
   "outputs": [
   ],
   "source": [
    "## iki düzeyli kategorik değişkenlerde LabelEncoder kullanırken, ikiden fazla düzeyli kategorik değişkenlerde one hot encoder yapılmalıdır.\n",
    "from sklearn.preprocessing import LabelEncoder\n",
    "from sklearn import preprocessing\n",
    "\n",
    "lbe= preprocessing.LabelEncoder()\n",
    "yeni_veri[\"yeni_cinsiyet\"] = lbe.fit_transform(yeni_veri[\"Cinsiyet\"])\n",
    "yeni_veri[\"yeni_kredi_riski\"] = lbe.fit_transform(yeni_veri[\"Kredi riski\"])\n",
    "\n",
    "yeni_veri.drop(\"Cinsiyet\",axis=1, inplace=True)\n",
    "yeni_veri.drop(\"Kredi riski\", axis=1, inplace=True)"
   ]
  },
  {
   "cell_type": "code",
   "execution_count": 7,
   "metadata": {
    "collapsed": false
   },
   "outputs": [
   ],
   "source": [
    "yeni_veri = pd.get_dummies(data=yeni_veri, columns=[\"Kredi Amaci\"])\n",
    "yeni_veri = pd.get_dummies(data=yeni_veri, columns=[\"Konut\"])\n",
    "yeni_veri = pd.get_dummies(data=yeni_veri, columns=[\"Medeni durumu\"])\n"
   ]
  },
  {
   "cell_type": "code",
   "execution_count": 8,
   "metadata": {
    "collapsed": false
   },
   "outputs": [
    {
     "name": "stderr",
     "output_type": "stream",
     "text": [
      "/tmp/ipykernel_570/2437776558.py:2: FutureWarning: The default value of regex will change from True to False in a future version. In addition, single character regular expressions will *not* be treated as literal strings when regex=True.\n",
      "  yeni_veri[\"Tasarruf\"] = yeni_veri[\"Tasarruf\"].str.replace(\"$\",\"\").astype(np.float64)\n"
     ]
    }
   ],
   "source": [
    "## tasarruf değişkenini object to float64 haline getirirsek\n",
    "yeni_veri[\"Tasarruf\"] = yeni_veri[\"Tasarruf\"].str.replace(\"$\",\"\").astype(np.float64)"
   ]
  },
  {
   "cell_type": "code",
   "execution_count": 9,
   "metadata": {
    "collapsed": false
   },
   "outputs": [
    {
     "name": "stdout",
     "output_type": "stream",
     "text": [
      "<class 'pandas.core.frame.DataFrame'>\n",
      "RangeIndex: 425 entries, 0 to 424\n",
      "Data columns (total 23 columns):\n",
      " #   Column                       Non-Null Count  Dtype  \n",
      "---  ------                       --------------  -----  \n",
      " 0   Tasarruf                     425 non-null    float64\n",
      " 1   Aylik musteri                425 non-null    int64  \n",
      " 2   Months Employed              425 non-null    int64  \n",
      " 3   Yas                          425 non-null    int64  \n",
      " 4   Yil                          425 non-null    int64  \n",
      " 5   yeni_cinsiyet                425 non-null    int64  \n",
      " 6   yeni_kredi_riski             425 non-null    int64  \n",
      " 7   Kredi Amaci_Business         425 non-null    uint8  \n",
      " 8   Kredi Amaci_Education        425 non-null    uint8  \n",
      " 9   Kredi Amaci_Furniture        425 non-null    uint8  \n",
      " 10  Kredi Amaci_Large Appliance  425 non-null    uint8  \n",
      " 11  Kredi Amaci_New Car          425 non-null    uint8  \n",
      " 12  Kredi Amaci_Other            425 non-null    uint8  \n",
      " 13  Kredi Amaci_Repairs          425 non-null    uint8  \n",
      " 14  Kredi Amaci_Retraining       425 non-null    uint8  \n",
      " 15  Kredi Amaci_Small Appliance  425 non-null    uint8  \n",
      " 16  Kredi Amaci_Used Car         425 non-null    uint8  \n",
      " 17  Konut_Other                  425 non-null    uint8  \n",
      " 18  Konut_Own                    425 non-null    uint8  \n",
      " 19  Konut_Rent                   425 non-null    uint8  \n",
      " 20  Medeni durumu_Divorced       425 non-null    uint8  \n",
      " 21  Medeni durumu_Married        425 non-null    uint8  \n",
      " 22  Medeni durumu_Single         425 non-null    uint8  \n",
      "dtypes: float64(1), int64(6), uint8(16)\n",
      "memory usage: 30.0 KB\n"
     ]
    }
   ],
   "source": [
    "yeni_veri.info()"
   ]
  },
  {
   "cell_type": "code",
   "execution_count": 0,
   "metadata": {
    "collapsed": false
   },
   "outputs": [
   ],
   "source": [
   ]
  },
  {
   "cell_type": "code",
   "execution_count": 0,
   "metadata": {
    "collapsed": false
   },
   "outputs": [
   ],
   "source": [
   ]
  }
 ],
 "metadata": {
  "kernelspec": {
   "display_name": "Python 3 (system-wide)",
   "language": "python",
   "metadata": {
    "cocalc": {
     "description": "Python 3 programming language",
     "priority": 100,
     "url": "https://www.python.org/"
    }
   },
   "name": "python3",
   "resource_dir": "/ext/jupyter/kernels/python3"
  },
  "language_info": {
   "codemirror_mode": {
    "name": "ipython",
    "version": 3
   },
   "file_extension": ".py",
   "mimetype": "text/x-python",
   "name": "python",
   "nbconvert_exporter": "python",
   "pygments_lexer": "ipython3",
   "version": "3.8.10"
  }
 },
 "nbformat": 4,
 "nbformat_minor": 4
}